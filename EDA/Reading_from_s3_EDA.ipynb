{
 "cells": [
  {
   "cell_type": "code",
   "execution_count": 1,
   "id": "8b83d9d8",
   "metadata": {},
   "outputs": [],
   "source": [
    "import pyspark \n",
    "from pyspark.sql import SparkSession\n",
    "spark = SparkSession.builder.getOrCreate()"
   ]
  },
  {
   "cell_type": "code",
   "execution_count": 2,
   "id": "1a2380a8",
   "metadata": {},
   "outputs": [],
   "source": [
    "from pyspark.sql.functions import *\n",
    "from pyspark.sql import *\n",
    "from pyspark.sql.types import *"
   ]
  },
  {
   "cell_type": "markdown",
   "id": "e5bbaae6",
   "metadata": {},
   "source": [
    "## s3 bucket name --> yelp_data_parquet , folder--> parquet [store file from kaggle]\n",
    "\n",
    "## s3 bucket name --> eda_parquet , folder--> parquet  [storing file after doing EDA]\n"
   ]
  },
  {
   "cell_type": "markdown",
   "id": "22eafb58",
   "metadata": {},
   "source": [
    "# Reading Business file"
   ]
  },
  {
   "cell_type": "code",
   "execution_count": null,
   "id": "a0de5c56",
   "metadata": {},
   "outputs": [],
   "source": [
    "business = spark.read.format(\"parquet\") \\\n",
    "                         .option(\"header\", \"true\") \\\n",
    "                         .option(\"inferSchema\", \"true\") \\\n",
    "                         .option(\"quote\", \"\\\"\")\\\n",
    "                         .option(\"escape\", \"\\\"\")\\\n",
    "                         .load(\"s3://yelp_data_parquet/parquet/business.parquet\")"
   ]
  },
  {
   "cell_type": "code",
   "execution_count": null,
   "id": "cbcadb1a",
   "metadata": {},
   "outputs": [],
   "source": [
    "business.cache()"
   ]
  },
  {
   "cell_type": "code",
   "execution_count": null,
   "id": "346b452b",
   "metadata": {},
   "outputs": [],
   "source": [
    "business1 = business.na.fill(value='Edinburgh',subset=[\"city\"])"
   ]
  },
  {
   "cell_type": "code",
   "execution_count": null,
   "id": "bcdd6a89",
   "metadata": {},
   "outputs": [],
   "source": [
    "business2 = business1.na.fill(value='',subset=[\"neighborhood\"])"
   ]
  },
  {
   "cell_type": "code",
   "execution_count": null,
   "id": "1957d183",
   "metadata": {},
   "outputs": [],
   "source": [
    "business3 = business2.na.fill(value='NV',subset=[\"State\"])"
   ]
  },
  {
   "cell_type": "code",
   "execution_count": null,
   "id": "a26dc59e",
   "metadata": {},
   "outputs": [],
   "source": [
    "business4 = business3.na.fill(value='',subset=[\"postal_code\"])"
   ]
  },
  {
   "cell_type": "code",
   "execution_count": null,
   "id": "1560f33f",
   "metadata": {},
   "outputs": [],
   "source": [
    "business5 = business4.na.fill(value=43.651070 , subset=[\"Latitude\"])"
   ]
  },
  {
   "cell_type": "code",
   "execution_count": null,
   "id": "8342b024",
   "metadata": {},
   "outputs": [],
   "source": [
    "business6 = business5.na.fill(value=-79.347015 , subset=[\"longitude\"])"
   ]
  },
  {
   "cell_type": "markdown",
   "id": "5b4ad9cb",
   "metadata": {},
   "source": [
    "## saving file"
   ]
  },
  {
   "cell_type": "code",
   "execution_count": null,
   "id": "2ddbf0f0",
   "metadata": {},
   "outputs": [],
   "source": []
  },
  {
   "cell_type": "markdown",
   "id": "1d97f542",
   "metadata": {},
   "source": [
    "# Reading Review"
   ]
  },
  {
   "cell_type": "code",
   "execution_count": null,
   "id": "05bc546a",
   "metadata": {},
   "outputs": [],
   "source": [
    "review_schema = StructType([\n",
    "    StructField(\"review_id\", StringType()),\n",
    "    StructField(\"user_id\", StringType()),\n",
    "    StructField(\"business_id\", StringType()),\n",
    "    StructField(\"stars\", FloatType()),\n",
    "    StructField(\"date\", StringType()),\n",
    "    StructField(\"text\", StringType()),\n",
    "    StructField(\"useful\", IntegerType()),\n",
    "    StructField(\"funny\", IntegerType()),\n",
    "    StructField(\"cool\", IntegerType())\n",
    "])"
   ]
  },
  {
   "cell_type": "code",
   "execution_count": null,
   "id": "3bfece75",
   "metadata": {},
   "outputs": [],
   "source": [
    "review= spark.read.format(\"parquet\") \\\n",
    "                         .option(\"header\", \"true\") \\\n",
    "                         .schema(review_schema) \\\n",
    "                         .option(\"quote\", \"\\\"\")\\\n",
    "                         .option(\"escape\", \"\\\"\")\\\n",
    "                         .option(\"dateFormat\", \"yyyy-MM-dd HH:mm:ss\")\\\n",
    "                         .option(\"multiLine\",'true')\\\n",
    "                         .load(\"s3://yelp_data_parquet/parquet/review.parquet\")"
   ]
  },
  {
   "cell_type": "markdown",
   "id": "0fc34109",
   "metadata": {},
   "source": [
    "## saving file"
   ]
  },
  {
   "cell_type": "code",
   "execution_count": null,
   "id": "39104df7",
   "metadata": {},
   "outputs": [],
   "source": []
  },
  {
   "cell_type": "markdown",
   "id": "37994a47",
   "metadata": {},
   "source": [
    "# Reading Checkin"
   ]
  },
  {
   "cell_type": "code",
   "execution_count": null,
   "id": "7de1de6b",
   "metadata": {},
   "outputs": [],
   "source": [
    "checkin = spark.read.format(\"parquet\") \\\n",
    "                         .option(\"header\", \"true\") \\\n",
    "                         .option(\"inferSchema\",\"true\")\\\n",
    "                         .load(\"s3://yelp_data_parquet/parquet/checkin.parquet\")"
   ]
  },
  {
   "cell_type": "markdown",
   "id": "5fa07510",
   "metadata": {},
   "source": [
    "## saving file"
   ]
  },
  {
   "cell_type": "code",
   "execution_count": null,
   "id": "1f49dbea",
   "metadata": {},
   "outputs": [],
   "source": []
  },
  {
   "cell_type": "markdown",
   "id": "2a21deed",
   "metadata": {},
   "source": [
    "## Reading Tip"
   ]
  },
  {
   "cell_type": "code",
   "execution_count": null,
   "id": "837c5e0c",
   "metadata": {},
   "outputs": [],
   "source": [
    "tip_schema = StructType([\n",
    "    StructField(\"text\", StringType()),\n",
    "    StructField(\"date\", StringType()),\n",
    "    StructField(\"likes\", IntegerType()),\n",
    "    StructField(\"business_id\", StringType()),\n",
    "    StructField(\"user_id\", StringType()),\n",
    "])"
   ]
  },
  {
   "cell_type": "code",
   "execution_count": null,
   "id": "4517feae",
   "metadata": {},
   "outputs": [],
   "source": [
    "tip = spark.read.format(\"parquet\") \\\n",
    "                         .option(\"header\", \"true\") \\\n",
    "                         .schema(tip_schema)\\\n",
    "                         .option(\"quote\", \"\\\"\")\\\n",
    "                         .option(\"escape\", \"\\\"\")\\\n",
    "                         .option(\"multiLine\",'true')\\\n",
    "                         .load(\"s3://yelp_data_parquet/parquet/tip.parquet\")"
   ]
  },
  {
   "cell_type": "code",
   "execution_count": null,
   "id": "95847f31",
   "metadata": {},
   "outputs": [],
   "source": [
    "tip1 = tip.na.fill(value='',subset=[\"text\"])"
   ]
  },
  {
   "cell_type": "markdown",
   "id": "fbaa4a52",
   "metadata": {},
   "source": [
    "## saving file"
   ]
  },
  {
   "cell_type": "code",
   "execution_count": null,
   "id": "8c52b1d0",
   "metadata": {},
   "outputs": [],
   "source": []
  },
  {
   "cell_type": "markdown",
   "id": "d0774b13",
   "metadata": {},
   "source": [
    "## Reading Hours"
   ]
  },
  {
   "cell_type": "code",
   "execution_count": null,
   "id": "626dfad7",
   "metadata": {},
   "outputs": [],
   "source": [
    "hours = spark.read.parquet(\"s3://yelp_data_parquet/parquet/hours.parquet\",header=True)"
   ]
  },
  {
   "cell_type": "code",
   "execution_count": null,
   "id": "e6b9ce9f",
   "metadata": {},
   "outputs": [],
   "source": [
    "from pyspark.sql.functions import regexp_replace\n",
    "hours1 = hours.withColumn('monday', regexp_replace('monday', 'None', ''))\n",
    "hours2 = hours1.withColumn('tuesday', regexp_replace('tuesday', 'None', ''))\n",
    "hours3 = hours2.withColumn('wednesday', regexp_replace('wednesday', 'None', ''))\n",
    "hours4 = hours3.withColumn('thursday', regexp_replace('thursday', 'None', ''))\n",
    "hours5 = hours4.withColumn('friday', regexp_replace('friday', 'None', ''))\n",
    "hours6 = hours5.withColumn('saturday', regexp_replace('saturday', 'None', ''))\n",
    "hours7 = hours6.withColumn('sunday', regexp_replace('sunday', 'None', ''))"
   ]
  },
  {
   "cell_type": "markdown",
   "id": "f330908e",
   "metadata": {},
   "source": [
    "## saving file"
   ]
  },
  {
   "cell_type": "code",
   "execution_count": null,
   "id": "f0ef8beb",
   "metadata": {},
   "outputs": [],
   "source": []
  },
  {
   "cell_type": "markdown",
   "id": "b5207816",
   "metadata": {},
   "source": [
    "# Reading user"
   ]
  },
  {
   "cell_type": "code",
   "execution_count": null,
   "id": "b61fac32",
   "metadata": {},
   "outputs": [],
   "source": [
    "user = spark.read.format(\"parquet\") \\\n",
    "                         .option(\"header\", \"true\") \\\n",
    "                         .option(\"inferSchema\", \"true\") \\\n",
    "                         .load(\"s3://yelp_data_parquet/parquet/user.parquet\")"
   ]
  },
  {
   "cell_type": "code",
   "execution_count": null,
   "id": "5578d085",
   "metadata": {},
   "outputs": [],
   "source": [
    "user.cache()"
   ]
  },
  {
   "cell_type": "code",
   "execution_count": null,
   "id": "63239347",
   "metadata": {},
   "outputs": [],
   "source": [
    "user2 = user1.na.fill(value='Unknown',subset=[\"name\"])\n"
   ]
  },
  {
   "cell_type": "code",
   "execution_count": null,
   "id": "77b3509b",
   "metadata": {},
   "outputs": [],
   "source": [
    "user2 = user1.na.fill(value='Unknown',subset=[\"name\"])"
   ]
  },
  {
   "cell_type": "code",
   "execution_count": null,
   "id": "fb103e4c",
   "metadata": {},
   "outputs": [],
   "source": [
    "user3 = user2.withColumn('name', regexp_replace('name', 'None', 'Unknown'))"
   ]
  },
  {
   "cell_type": "code",
   "execution_count": null,
   "id": "98019c8e",
   "metadata": {},
   "outputs": [],
   "source": [
    "user4 = user3.withColumn('elite', regexp_replace('elite', 'None', ''))"
   ]
  },
  {
   "cell_type": "code",
   "execution_count": null,
   "id": "4b1be8f4",
   "metadata": {},
   "outputs": [],
   "source": [
    "user5 = user4.withColumn('friends', regexp_replace('friends', 'None', ''))"
   ]
  },
  {
   "cell_type": "code",
   "execution_count": null,
   "id": "9fd35a6b",
   "metadata": {},
   "outputs": [],
   "source": [
    "user6=user5.drop('fans','compliment_hot',\n",
    " 'compliment_more',\n",
    " 'compliment_profile',\n",
    " 'compliment_cute',\n",
    " 'compliment_list',\n",
    " 'compliment_note',\n",
    " 'compliment_plain',\n",
    " 'compliment_cool',\n",
    " 'compliment_funny',\n",
    " 'compliment_writer',\n",
    " 'compliment_photos')\n"
   ]
  },
  {
   "cell_type": "code",
   "execution_count": null,
   "id": "9255931a",
   "metadata": {},
   "outputs": [],
   "source": [
    "from pyspark.sql.functions import split"
   ]
  },
  {
   "cell_type": "code",
   "execution_count": null,
   "id": "0f7b9d44",
   "metadata": {},
   "outputs": [],
   "source": [
    "user7 = user6.withColumn(\"Yelping_date\", split(col(\"Yelping_since\"), \" \").getItem(0)).withColumn(\"col2\", split(col(\"Yelping_since\"), \" \").getItem(1))"
   ]
  },
  {
   "cell_type": "code",
   "execution_count": null,
   "id": "21f3ce31",
   "metadata": {},
   "outputs": [],
   "source": [
    "user8=user7.drop('Yelping_since','col2')"
   ]
  },
  {
   "cell_type": "code",
   "execution_count": null,
   "id": "6170d8fd",
   "metadata": {},
   "outputs": [],
   "source": [
    "user9= user8.withColumnRenamed('Yelping_date', 'Yelping_since') # renaming  column yelping date as yelping_since"
   ]
  },
  {
   "cell_type": "code",
   "execution_count": null,
   "id": "c8ee921e",
   "metadata": {},
   "outputs": [],
   "source": [
    "user10 = user9.select('user_id','name','review_count','Yelping_since','friends','useful','funny','cool','elite','average_stars')"
   ]
  },
  {
   "cell_type": "markdown",
   "id": "01b68380",
   "metadata": {},
   "source": [
    "## saving file"
   ]
  },
  {
   "cell_type": "code",
   "execution_count": null,
   "id": "e588e8ea",
   "metadata": {},
   "outputs": [],
   "source": []
  }
 ],
 "metadata": {
  "kernelspec": {
   "display_name": "Pyspark 3",
   "language": "python",
   "name": "pyspark3"
  },
  "language_info": {
   "codemirror_mode": {
    "name": "ipython",
    "version": 3
   },
   "file_extension": ".py",
   "mimetype": "text/x-python",
   "name": "python",
   "nbconvert_exporter": "python",
   "pygments_lexer": "ipython3",
   "version": "3.6.12"
  }
 },
 "nbformat": 4,
 "nbformat_minor": 5
}
