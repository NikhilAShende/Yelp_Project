{
 "cells": [
  {
   "cell_type": "code",
   "execution_count": 1,
   "id": "8b83d9d8",
   "metadata": {},
   "outputs": [],
   "source": [
    "import pyspark \n",
    "from pyspark.sql import SparkSession\n",
    "spark = SparkSession.builder.getOrCreate()"
   ]
  },
  {
   "cell_type": "code",
   "execution_count": 2,
   "id": "1a2380a8",
   "metadata": {},
   "outputs": [],
   "source": [
    "from pyspark.sql.functions import *\n",
    "from pyspark.sql import *\n",
    "from pyspark.sql.types import *"
   ]
  },
  {
   "cell_type": "markdown",
   "id": "e5bbaae6",
   "metadata": {},
   "source": [
    "## s3 bucket name --> yelp_data_parquet , folder--> parquet [store file from kaggle]\n",
    "\n",
    "## s3 bucket name --> eda_parquet , folder--> parquet  [storing file after doing EDA]\n"
   ]
  },
  {
   "cell_type": "markdown",
   "id": "22eafb58",
   "metadata": {},
   "source": [
    "# Reading Business file"
   ]
  },
  {
   "cell_type": "code",
   "execution_count": null,
   "id": "a0de5c56",
   "metadata": {},
   "outputs": [],
   "source": [
    "business = spark.read.format(\"parquet\") \\\n",
    "                         .option(\"header\", \"true\") \\\n",
    "                         .option(\"inferSchema\", \"true\") \\\n",
    "                         .option(\"quote\", \"\\\"\")\\\n",
    "                         .option(\"escape\", \"\\\"\")\\\n",
    "                         .load(\"s3://yelp_data_parquet/parquet/business.parquet\")"
   ]
  },
  {
   "cell_type": "code",
   "execution_count": null,
   "id": "cbcadb1a",
   "metadata": {},
   "outputs": [],
   "source": [
    "business.cache()"
   ]
  },
  {
   "cell_type": "code",
   "execution_count": null,
   "id": "346b452b",
   "metadata": {},
   "outputs": [],
   "source": [
    "business1 = business.na.fill(value='Edinburgh',subset=[\"city\"])"
   ]
  },
  {
   "cell_type": "code",
   "execution_count": null,
   "id": "bcdd6a89",
   "metadata": {},
   "outputs": [],
   "source": [
    "business2 = business1.na.fill(value='',subset=[\"neighborhood\"])"
   ]
  },
  {
   "cell_type": "code",
   "execution_count": null,
   "id": "1957d183",
   "metadata": {},
   "outputs": [],
   "source": [
    "business3 = business2.na.fill(value='NV',subset=[\"State\"])"
   ]
  },
  {
   "cell_type": "code",
   "execution_count": null,
   "id": "a26dc59e",
   "metadata": {},
   "outputs": [],
   "source": [
    "business4 = business3.na.fill(value='',subset=[\"postal_code\"])"
   ]
  },
  {
   "cell_type": "code",
   "execution_count": null,
   "id": "1560f33f",
   "metadata": {},
   "outputs": [],
   "source": [
    "business5 = business4.na.fill(value=43.651070 , subset=[\"Latitude\"])"
   ]
  },
  {
   "cell_type": "code",
   "execution_count": null,
   "id": "8342b024",
   "metadata": {},
   "outputs": [],
   "source": [
    "business6 = business5.na.fill(value=-79.347015 , subset=[\"longitude\"])"
   ]
  },
  {
   "cell_type": "markdown",
   "id": "5b4ad9cb",
   "metadata": {},
   "source": [
    "## saving file"
   ]
  },
  {
   "cell_type": "code",
   "execution_count": null,
   "id": "2ddbf0f0",
   "metadata": {},
   "outputs": [],
   "source": []
  },
  {
   "cell_type": "markdown",
   "id": "1d97f542",
   "metadata": {},
   "source": [
    "# Reading Review"
   ]
  },
  {
   "cell_type": "code",
   "execution_count": null,
   "id": "05bc546a",
   "metadata": {},
   "outputs": [],
   "source": [
    "review_schema = StructType([\n",
    "    StructField(\"review_id\", StringType()),\n",
    "    StructField(\"user_id\", StringType()),\n",
    "    StructField(\"business_id\", StringType()),\n",
    "    StructField(\"stars\", FloatType()),\n",
    "    StructField(\"date\", StringType()),\n",
    "    StructField(\"text\", StringType()),\n",
    "    StructField(\"useful\", IntegerType()),\n",
    "    StructField(\"funny\", IntegerType()),\n",
    "    StructField(\"cool\", IntegerType())\n",
    "])"
   ]
  },
  {
   "cell_type": "code",
   "execution_count": null,
   "id": "3bfece75",
   "metadata": {},
   "outputs": [],
   "source": [
    "review= spark.read.format(\"parquet\") \\\n",
    "                         .option(\"header\", \"true\") \\\n",
    "                         .schema(review_schema) \\\n",
    "                         .option(\"quote\", \"\\\"\")\\\n",
    "                         .option(\"escape\", \"\\\"\")\\\n",
    "                         .option(\"dateFormat\", \"yyyy-MM-dd HH:mm:ss\")\\\n",
    "                         .option(\"multiLine\",'true')\\\n",
    "                         .load(\"s3://yelp_data_parquet/parquet/review.parquet\")"
   ]
  },
  {
   "cell_type": "markdown",
   "id": "0fc34109",
   "metadata": {},
   "source": [
    "## saving file"
   ]
  },
  {
   "cell_type": "code",
   "execution_count": null,
   "id": "39104df7",
   "metadata": {},
   "outputs": [],
   "source": []
  },
  {
   "cell_type": "markdown",
   "id": "37994a47",
   "metadata": {},
   "source": [
    "# Reading Checkin"
   ]
  },
  {
   "cell_type": "code",
   "execution_count": null,
   "id": "7de1de6b",
   "metadata": {},
   "outputs": [],
   "source": [
    "checkin = spark.read.format(\"parquet\") \\\n",
    "                         .option(\"header\", \"true\") \\\n",
    "                         .option(\"inferSchema\",\"true\")\\\n",
    "                         .load(\"s3://yelp_data_parquet/parquet/checkin.parquet\")"
   ]
  },
  {
   "cell_type": "markdown",
   "id": "5fa07510",
   "metadata": {},
   "source": [
    "## saving file"
   ]
  },
  {
   "cell_type": "code",
   "execution_count": null,
   "id": "1f49dbea",
   "metadata": {},
   "outputs": [],
   "source": []
  },
  {
   "cell_type": "markdown",
   "id": "2a21deed",
   "metadata": {},
   "source": [
    "## Reading Tip"
   ]
  },
  {
   "cell_type": "code",
   "execution_count": null,
   "id": "837c5e0c",
   "metadata": {},
   "outputs": [],
   "source": [
    "tip_schema = StructType([\n",
    "    StructField(\"text\", StringType()),\n",
    "    StructField(\"date\", StringType()),\n",
    "    StructField(\"likes\", IntegerType()),\n",
    "    StructField(\"business_id\", StringType()),\n",
    "    StructField(\"user_id\", StringType()),\n",
    "])"
   ]
  },
  {
   "cell_type": "code",
   "execution_count": null,
   "id": "4517feae",
   "metadata": {},
   "outputs": [],
   "source": [
    "tip = spark.read.format(\"parquet\") \\\n",
    "                         .option(\"header\", \"true\") \\\n",
    "                         .schema(tip_schema)\\\n",
    "                         .option(\"quote\", \"\\\"\")\\\n",
    "                         .option(\"escape\", \"\\\"\")\\\n",
    "                         .option(\"multiLine\",'true')\\\n",
    "                         .load(\"s3://yelp_data_parquet/parquet/tip.parquet\")"
   ]
  },
  {
   "cell_type": "code",
   "execution_count": null,
   "id": "95847f31",
   "metadata": {},
   "outputs": [],
   "source": [
    "tip1 = tip.na.fill(value='',subset=[\"text\"])"
   ]
  },
  {
   "cell_type": "markdown",
   "id": "fbaa4a52",
   "metadata": {},
   "source": [
    "## saving file"
   ]
  },
  {
   "cell_type": "code",
   "execution_count": null,
   "id": "8c52b1d0",
   "metadata": {},
   "outputs": [],
   "source": []
  },
  {
   "cell_type": "markdown",
   "id": "d0774b13",
   "metadata": {},
   "source": [
    "## Reading Hours"
   ]
  },
  {
   "cell_type": "code",
   "execution_count": null,
   "id": "626dfad7",
   "metadata": {},
   "outputs": [],
   "source": [
    "hours = spark.read.parquet(\"s3://yelp_data_parquet/parquet/hours.parquet\",header=True)"
   ]
  },
  {
   "cell_type": "code",
   "execution_count": null,
   "id": "e6b9ce9f",
   "metadata": {},
   "outputs": [],
   "source": [
    "from pyspark.sql.functions import regexp_replace\n",
    "hours1 = hours.withColumn('monday', regexp_replace('monday', 'None', ''))\n",
    "hours2 = hours1.withColumn('tuesday', regexp_replace('tuesday', 'None', ''))\n",
    "hours3 = hours2.withColumn('wednesday', regexp_replace('wednesday', 'None', ''))\n",
    "hours4 = hours3.withColumn('thursday', regexp_replace('thursday', 'None', ''))\n",
    "hours5 = hours4.withColumn('friday', regexp_replace('friday', 'None', ''))\n",
    "hours6 = hours5.withColumn('saturday', regexp_replace('saturday', 'None', ''))\n",
    "hours7 = hours6.withColumn('sunday', regexp_replace('sunday', 'None', ''))"
   ]
  },
  {
   "cell_type": "markdown",
   "id": "f330908e",
   "metadata": {},
   "source": [
    "## saving file"
   ]
  },
  {
   "cell_type": "code",
   "execution_count": null,
   "id": "f0ef8beb",
   "metadata": {},
   "outputs": [],
   "source": []
  }
 ],
 "metadata": {
  "kernelspec": {
   "display_name": "Pyspark 3",
   "language": "python",
   "name": "pyspark3"
  },
  "language_info": {
   "codemirror_mode": {
    "name": "ipython",
    "version": 3
   },
   "file_extension": ".py",
   "mimetype": "text/x-python",
   "name": "python",
   "nbconvert_exporter": "python",
   "pygments_lexer": "ipython3",
   "version": "3.6.12"
  }
 },
 "nbformat": 4,
 "nbformat_minor": 5
}
