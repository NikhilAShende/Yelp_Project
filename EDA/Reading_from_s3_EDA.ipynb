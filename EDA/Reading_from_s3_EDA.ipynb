{
 "cells": [
  {
   "cell_type": "code",
   "execution_count": 1,
   "id": "8b83d9d8",
   "metadata": {},
   "outputs": [],
   "source": [
    "import pyspark \n",
    "from pyspark.sql import SparkSession\n",
    "spark = SparkSession.builder.getOrCreate()"
   ]
  },
  {
   "cell_type": "code",
   "execution_count": 2,
   "id": "1a2380a8",
   "metadata": {},
   "outputs": [],
   "source": [
    "from pyspark.sql.functions import *\n",
    "from pyspark.sql import *\n",
    "from pyspark.sql.types import *"
   ]
  },
  {
   "cell_type": "markdown",
   "id": "e5bbaae6",
   "metadata": {},
   "source": [
    "## s3 bucket name --> yelp_data_parquet , folder--> parquet [store file from kaggle]\n",
    "\n",
    "## s3 bucket name --> eda_parquet , folder--> parquet  [storing file after doing EDA]\n"
   ]
  },
  {
   "cell_type": "markdown",
   "id": "22eafb58",
   "metadata": {},
   "source": [
    "# Reading Business file"
   ]
  },
  {
   "cell_type": "code",
   "execution_count": null,
   "id": "a0de5c56",
   "metadata": {},
   "outputs": [],
   "source": [
    "business = spark.read.format(\"parquet\") \\\n",
    "                         .option(\"header\", \"true\") \\\n",
    "                         .option(\"inferSchema\", \"true\") \\\n",
    "                         .option(\"quote\", \"\\\"\")\\\n",
    "                         .option(\"escape\", \"\\\"\")\\\n",
    "                         .load(\"s3://yelp_data_parquet/parquet/business.parquet\")"
   ]
  },
  {
   "cell_type": "code",
   "execution_count": null,
   "id": "cbcadb1a",
   "metadata": {},
   "outputs": [],
   "source": [
    "business.cache()"
   ]
  },
  {
   "cell_type": "code",
   "execution_count": null,
   "id": "346b452b",
   "metadata": {},
   "outputs": [],
   "source": [
    "business1 = business.na.fill(value='Edinburgh',subset=[\"city\"])"
   ]
  },
  {
   "cell_type": "code",
   "execution_count": null,
   "id": "bcdd6a89",
   "metadata": {},
   "outputs": [],
   "source": [
    "business2 = business1.na.fill(value='',subset=[\"neighborhood\"])"
   ]
  },
  {
   "cell_type": "code",
   "execution_count": null,
   "id": "1957d183",
   "metadata": {},
   "outputs": [],
   "source": [
    "business3 = business2.na.fill(value='NV',subset=[\"State\"])"
   ]
  },
  {
   "cell_type": "code",
   "execution_count": null,
   "id": "a26dc59e",
   "metadata": {},
   "outputs": [],
   "source": [
    "business4 = business3.na.fill(value='',subset=[\"postal_code\"])"
   ]
  },
  {
   "cell_type": "code",
   "execution_count": null,
   "id": "1560f33f",
   "metadata": {},
   "outputs": [],
   "source": [
    "business5 = business4.na.fill(value=43.651070 , subset=[\"Latitude\"])"
   ]
  },
  {
   "cell_type": "code",
   "execution_count": null,
   "id": "8342b024",
   "metadata": {},
   "outputs": [],
   "source": [
    "business6 = business5.na.fill(value=-79.347015 , subset=[\"longitude\"])"
   ]
  },
  {
   "cell_type": "markdown",
   "id": "5b4ad9cb",
   "metadata": {},
   "source": [
    "## saving file"
   ]
  },
  {
   "cell_type": "code",
   "execution_count": null,
   "id": "2ddbf0f0",
   "metadata": {},
   "outputs": [],
   "source": []
  },
  {
   "cell_type": "markdown",
   "id": "1d97f542",
   "metadata": {},
   "source": [
    "# Reading Review"
   ]
  },
  {
   "cell_type": "code",
   "execution_count": null,
   "id": "05bc546a",
   "metadata": {},
   "outputs": [],
   "source": [
    "review_schema = StructType([\n",
    "    StructField(\"review_id\", StringType()),\n",
    "    StructField(\"user_id\", StringType()),\n",
    "    StructField(\"business_id\", StringType()),\n",
    "    StructField(\"stars\", FloatType()),\n",
    "    StructField(\"date\", StringType()),\n",
    "    StructField(\"text\", StringType()),\n",
    "    StructField(\"useful\", IntegerType()),\n",
    "    StructField(\"funny\", IntegerType()),\n",
    "    StructField(\"cool\", IntegerType())\n",
    "])"
   ]
  },
  {
   "cell_type": "code",
   "execution_count": null,
   "id": "3bfece75",
   "metadata": {},
   "outputs": [],
   "source": [
    "review= spark.read.format(\"parquet\") \\\n",
    "                         .option(\"header\", \"true\") \\\n",
    "                         .schema(review_schema) \\\n",
    "                         .option(\"quote\", \"\\\"\")\\\n",
    "                         .option(\"escape\", \"\\\"\")\\\n",
    "                         .option(\"dateFormat\", \"yyyy-MM-dd HH:mm:ss\")\\\n",
    "                         .option(\"multiLine\",'true')\\\n",
    "                         .load(\"s3://yelp_data_parquet/parquet/review.parquet\")"
   ]
  },
  {
   "cell_type": "markdown",
   "id": "0fc34109",
   "metadata": {},
   "source": [
    "## saving file"
   ]
  },
  {
   "cell_type": "code",
   "execution_count": null,
   "id": "39104df7",
   "metadata": {},
   "outputs": [],
   "source": []
  },
  {
   "cell_type": "markdown",
   "id": "37994a47",
   "metadata": {},
   "source": [
    "# Reading Checkin"
   ]
  },
  {
   "cell_type": "code",
   "execution_count": null,
   "id": "7de1de6b",
   "metadata": {},
   "outputs": [],
   "source": [
    "checkin = spark.read.format(\"parquet\") \\\n",
    "                         .option(\"header\", \"true\") \\\n",
    "                         .option(\"inferSchema\",\"true\")\\\n",
    "                         .load(\"s3://yelp_data_parquet/parquet/checkin.parquet\")"
   ]
  },
  {
   "cell_type": "markdown",
   "id": "5fa07510",
   "metadata": {},
   "source": [
    "## saving file"
   ]
  },
  {
   "cell_type": "code",
   "execution_count": null,
   "id": "1f49dbea",
   "metadata": {},
   "outputs": [],
   "source": []
  },
  {
   "cell_type": "markdown",
   "id": "2a21deed",
   "metadata": {},
   "source": [
    "## Reading Tip"
   ]
  },
  {
   "cell_type": "code",
   "execution_count": null,
   "id": "837c5e0c",
   "metadata": {},
   "outputs": [],
   "source": [
    "tip_schema = StructType([\n",
    "    StructField(\"text\", StringType()),\n",
    "    StructField(\"date\", StringType()),\n",
    "    StructField(\"likes\", IntegerType()),\n",
    "    StructField(\"business_id\", StringType()),\n",
    "    StructField(\"user_id\", StringType()),\n",
    "])"
   ]
  },
  {
   "cell_type": "code",
   "execution_count": null,
   "id": "4517feae",
   "metadata": {},
   "outputs": [],
   "source": [
    "tip = spark.read.format(\"parquet\") \\\n",
    "                         .option(\"header\", \"true\") \\\n",
    "                         .schema(tip_schema)\\\n",
    "                         .option(\"quote\", \"\\\"\")\\\n",
    "                         .option(\"escape\", \"\\\"\")\\\n",
    "                         .option(\"multiLine\",'true')\\\n",
    "                         .load(\"s3://yelp_data_parquet/parquet/tip.parquet\")"
   ]
  },
  {
   "cell_type": "code",
   "execution_count": null,
   "id": "95847f31",
   "metadata": {},
   "outputs": [],
   "source": [
    "tip1 = tip.na.fill(value='',subset=[\"text\"])"
   ]
  },
  {
   "cell_type": "markdown",
   "id": "fbaa4a52",
   "metadata": {},
   "source": [
    "## saving file"
   ]
  },
  {
   "cell_type": "code",
   "execution_count": null,
   "id": "8c52b1d0",
   "metadata": {},
   "outputs": [],
   "source": []
  },
  {
   "cell_type": "markdown",
   "id": "d0774b13",
   "metadata": {},
   "source": [
    "## Reading Hours"
   ]
  },
  {
   "cell_type": "code",
   "execution_count": null,
   "id": "626dfad7",
   "metadata": {},
   "outputs": [],
   "source": [
    "hours = spark.read.parquet(\"s3://yelp_data_parquet/parquet/hours.parquet\",header=True)"
   ]
  },
  {
   "cell_type": "code",
   "execution_count": null,
   "id": "e6b9ce9f",
   "metadata": {},
   "outputs": [],
   "source": [
    "from pyspark.sql.functions import regexp_replace\n",
    "hours1 = hours.withColumn('monday', regexp_replace('monday', 'None', ''))\n",
    "hours2 = hours1.withColumn('tuesday', regexp_replace('tuesday', 'None', ''))\n",
    "hours3 = hours2.withColumn('wednesday', regexp_replace('wednesday', 'None', ''))\n",
    "hours4 = hours3.withColumn('thursday', regexp_replace('thursday', 'None', ''))\n",
    "hours5 = hours4.withColumn('friday', regexp_replace('friday', 'None', ''))\n",
    "hours6 = hours5.withColumn('saturday', regexp_replace('saturday', 'None', ''))\n",
    "hours7 = hours6.withColumn('sunday', regexp_replace('sunday', 'None', ''))"
   ]
  },
  {
   "cell_type": "markdown",
   "id": "f330908e",
   "metadata": {},
   "source": [
    "## saving file"
   ]
  },
  {
   "cell_type": "code",
   "execution_count": null,
   "id": "f0ef8beb",
   "metadata": {},
   "outputs": [],
   "source": []
  },
  {
   "cell_type": "markdown",
   "id": "b5207816",
   "metadata": {},
   "source": [
    "# Reading user"
   ]
  },
  {
   "cell_type": "code",
   "execution_count": null,
   "id": "b61fac32",
   "metadata": {},
   "outputs": [],
   "source": [
    "user = spark.read.format(\"parquet\") \\\n",
    "                         .option(\"header\", \"true\") \\\n",
    "                         .option(\"inferSchema\", \"true\") \\\n",
    "                         .load(\"s3://yelp_data_parquet/parquet/user.parquet\")"
   ]
  },
  {
   "cell_type": "code",
   "execution_count": null,
   "id": "5578d085",
   "metadata": {},
   "outputs": [],
   "source": [
    "user.cache()"
   ]
  },
  {
   "cell_type": "code",
   "execution_count": null,
   "id": "63239347",
   "metadata": {},
   "outputs": [],
   "source": [
    "user2 = user1.na.fill(value='Unknown',subset=[\"name\"])\n"
   ]
  },
  {
   "cell_type": "code",
   "execution_count": null,
   "id": "77b3509b",
   "metadata": {},
   "outputs": [],
   "source": [
    "user2 = user1.na.fill(value='Unknown',subset=[\"name\"])"
   ]
  },
  {
   "cell_type": "code",
   "execution_count": null,
   "id": "fb103e4c",
   "metadata": {},
   "outputs": [],
   "source": [
    "user3 = user2.withColumn('name', regexp_replace('name', 'None', 'Unknown'))"
   ]
  },
  {
   "cell_type": "code",
   "execution_count": null,
   "id": "98019c8e",
   "metadata": {},
   "outputs": [],
   "source": [
    "user4 = user3.withColumn('elite', regexp_replace('elite', 'None', ''))"
   ]
  },
  {
   "cell_type": "code",
   "execution_count": null,
   "id": "4b1be8f4",
   "metadata": {},
   "outputs": [],
   "source": [
    "user5 = user4.withColumn('friends', regexp_replace('friends', 'None', ''))"
   ]
  },
  {
   "cell_type": "code",
   "execution_count": null,
   "id": "9fd35a6b",
   "metadata": {},
   "outputs": [],
   "source": [
    "user6=user5.drop('fans','compliment_hot',\n",
    " 'compliment_more',\n",
    " 'compliment_profile',\n",
    " 'compliment_cute',\n",
    " 'compliment_list',\n",
    " 'compliment_note',\n",
    " 'compliment_plain',\n",
    " 'compliment_cool',\n",
    " 'compliment_funny',\n",
    " 'compliment_writer',\n",
    " 'compliment_photos')\n"
   ]
  },
  {
   "cell_type": "code",
   "execution_count": null,
   "id": "9255931a",
   "metadata": {},
   "outputs": [],
   "source": [
    "from pyspark.sql.functions import split"
   ]
  },
  {
   "cell_type": "code",
   "execution_count": null,
   "id": "0f7b9d44",
   "metadata": {},
   "outputs": [],
   "source": [
    "user7 = user6.withColumn(\"Yelping_date\", split(col(\"Yelping_since\"), \" \").getItem(0)).withColumn(\"col2\", split(col(\"Yelping_since\"), \" \").getItem(1))"
   ]
  },
  {
   "cell_type": "code",
   "execution_count": null,
   "id": "21f3ce31",
   "metadata": {},
   "outputs": [],
   "source": [
    "user8=user7.drop('Yelping_since','col2')"
   ]
  },
  {
   "cell_type": "code",
   "execution_count": null,
   "id": "6170d8fd",
   "metadata": {},
   "outputs": [],
   "source": [
    "user9= user8.withColumnRenamed('Yelping_date', 'Yelping_since')"
   ]
  },
  {
   "cell_type": "code",
   "execution_count": null,
   "id": "c8ee921e",
   "metadata": {},
   "outputs": [],
   "source": [
    "user10 = user9.select('user_id','name','review_count','Yelping_since','friends','useful','funny','cool','elite','average_stars')"
   ]
  },
  {
   "cell_type": "markdown",
   "id": "01b68380",
   "metadata": {},
   "source": [
    "## saving file"
   ]
  },
  {
   "cell_type": "code",
   "execution_count": null,
   "id": "e588e8ea",
   "metadata": {},
   "outputs": [],
   "source": []
  },
  {
   "cell_type": "markdown",
   "id": "9b778de0",
   "metadata": {},
   "source": [
    "# Reading attribute"
   ]
  },
  {
   "cell_type": "code",
   "execution_count": null,
   "id": "931eb05e",
   "metadata": {},
   "outputs": [],
   "source": [
    "attribute = spark.read.format(\"parquet\") \\\n",
    "                         .option(\"header\", \"true\") \\\n",
    "                         .option(\"quote\", \"\\\"\")\\\n",
    "                         .option(\"escape\", \"\\\"\")\\\n",
    "                         .option(\"multiLine\",'true')\\\n",
    "                         .load(\"s3://yelp_data_parquet/parquet/attribute.parquet\")"
   ]
  },
  {
   "cell_type": "code",
   "execution_count": null,
   "id": "fa883866",
   "metadata": {},
   "outputs": [],
   "source": [
    "attribute.cache()"
   ]
  },
  {
   "cell_type": "code",
   "execution_count": null,
   "id": "28410098",
   "metadata": {},
   "outputs": [],
   "source": [
    "attribute_1=attribute.drop('DietaryRestrictions_kosher', 'DietaryRestrictions_halal','DietaryRestrictions_soy-free',\n",
    "'DietaryRestrictions_vegetarian','RestaurantsCounterService','DietaryRestrictions_gluten-free',\n",
    "'DietaryRestrictions_dairy-free','DietaryRestrictions_vegan', 'BYOBCorkage', 'BYOB','CoatCheck',\n",
    "'Ambience_hipster','Ambience_divey','Ambience_intimate','Ambience_trendy','Ambience_upscale')"
   ]
  },
  {
   "cell_type": "code",
   "execution_count": null,
   "id": "e9b3cebf",
   "metadata": {},
   "outputs": [],
   "source": [
    "attribute_2 = attribute_1.withColumn('AcceptsInsurance', regexp_replace('AcceptsInsurance', 'Na', ''))\\\n",
    "                         .withColumn('ByAppointmentOnly', regexp_replace('ByAppointmentOnly', 'Na', ''))\\\n",
    "                         .withColumn('BusinessAcceptsCreditCards', regexp_replace('BusinessAcceptsCreditCards', 'Na', ''))\\\n",
    "                         .withColumn('BusinessParking_garage', regexp_replace('BusinessParking_garage', 'Na', ''))\\\n",
    "                         .withColumn('BusinessParking_street', regexp_replace('BusinessParking_street', 'Na', ''))\\\n",
    "                         .withColumn('BusinessParking_validated', regexp_replace('BusinessParking_validated', 'Na', ''))\\\n",
    "                         .withColumn('BusinessParking_lot', regexp_replace('BusinessParking_lot', 'Na', ''))\\\n",
    "                         .withColumn('BusinessParking_valet', regexp_replace('BusinessParking_valet', 'Na', ''))\\\n",
    "                         .withColumn('HairSpecializesIn_coloring', regexp_replace('HairSpecializesIn_coloring', 'Na', ''))\\\n",
    "                         .withColumn('HairSpecializesIn_africanamerican', regexp_replace('HairSpecializesIn_africanamerican', 'Na', ''))\\\n",
    "                         .withColumn('HairSpecializesIn_curly', regexp_replace('HairSpecializesIn_curly', 'Na', ''))\\\n",
    "                         .withColumn('HairSpecializesIn_perms', regexp_replace('HairSpecializesIn_perms', 'Na', ''))\\\n",
    "                         .withColumn('HairSpecializesIn_kids', regexp_replace('HairSpecializesIn_kids', 'Na', ''))\\\n",
    "                         .withColumn('HairSpecializesIn_extensions', regexp_replace('HairSpecializesIn_extensions', 'Na', ''))\\\n",
    "                         .withColumn('HairSpecializesIn_asian', regexp_replace('HairSpecializesIn_asian', 'Na', ''))\\\n",
    "                         .withColumn('HairSpecializesIn_straightperms', regexp_replace('HairSpecializesIn_straightperms', 'Na', ''))\\\n",
    "                         .withColumn('RestaurantsPriceRange2', regexp_replace('RestaurantsPriceRange2', 'Na', ''))\\\n",
    "                         .withColumn('GoodForKids', regexp_replace('GoodForKids', 'Na', ''))\\\n",
    "                         .withColumn('WheelchairAccessible', regexp_replace('WheelchairAccessible', 'Na', ''))\\\n",
    "                         .withColumn('BikeParking', regexp_replace('BikeParking', 'Na', ''))\\\n",
    "                         .withColumn('Alcohol', regexp_replace('Alcohol', 'Na', ''))\\\n",
    "                         .withColumn('HasTV', regexp_replace('HasTV', 'Na', ''))\\\n",
    "                         .withColumn('NoiseLevel', regexp_replace('NoiseLevel', 'Na', ''))\\\n",
    "                         .withColumn('RestaurantsAttire', regexp_replace('RestaurantsAttire', 'Na', ''))\\\n",
    "                         .withColumn('Music_dj', regexp_replace('Music_dj', 'Na', ''))\\\n",
    "                         .withColumn('Music_background_music', regexp_replace('Music_background_music', 'Na', ''))\\\n",
    "                         .withColumn('Music_no_music', regexp_replace('Music_no_music', 'Na', ''))\\\n",
    "                         .withColumn('Music_karaoke', regexp_replace('Music_karaoke', 'Na', ''))\\\n",
    "                         .withColumn('Music_live', regexp_replace('Music_live', 'Na', ''))\\\n",
    "                         .withColumn('Music_video', regexp_replace('Music_video', 'Na', ''))\\\n",
    "                         .withColumn('Music_jukebox', regexp_replace('Music_jukebox', 'Na', ''))\\\n",
    "                         .withColumn('Ambience_romantic', regexp_replace('Ambience_romantic', 'Na', ''))\\\n",
    "                         .withColumn('Ambience_classy', regexp_replace('Ambience_classy', 'Na', ''))\\\n",
    "                         .withColumn('Ambience_touristy', regexp_replace('Ambience_touristy', 'Na', ''))\\\n",
    "                         .withColumn('Ambience_casual', regexp_replace('Ambience_casual', 'Na', ''))\\\n",
    "                         .withColumn('RestaurantsGoodForGroups', regexp_replace('RestaurantsGoodForGroups', 'Na', ''))\\\n",
    "                         .withColumn('Caters', regexp_replace('Caters', 'Na', ''))\\\n",
    "                         .withColumn('WiFi', regexp_replace('WiFi', 'Na', ''))\\\n",
    "                         .withColumn('RestaurantsReservations', regexp_replace('RestaurantsReservations', 'Na', ''))\\\n",
    "                         .withColumn('RestaurantsTakeOut', regexp_replace('RestaurantsTakeOut', 'Na', ''))\\\n",
    "                         .withColumn('HappyHour', regexp_replace('HappyHour', 'Na', ''))\\\n",
    "                         .withColumn('GoodForDancing', regexp_replace('GoodForDancing', 'Na', ''))\\\n",
    "                         .withColumn('RestaurantsTableService', regexp_replace('RestaurantsTableService', 'Na', ''))\\\n",
    "                         .withColumn('OutdoorSeating', regexp_replace('OutdoorSeating', 'Na', ''))\\\n",
    "                         .withColumn('RestaurantsDelivery', regexp_replace('RestaurantsDelivery', 'Na', ''))\\\n",
    "                         .withColumn('BestNights_monday', regexp_replace('BestNights_monday', 'Na', ''))\\\n",
    "                         .withColumn('BestNights_tuesday', regexp_replace('BestNights_tuesday', 'Na', ''))\\\n",
    "                         .withColumn('BestNights_friday', regexp_replace('BestNights_friday', 'Na', ''))\\\n",
    "                         .withColumn('BestNights_wednesday', regexp_replace('BestNights_wednesday', 'Na', ''))\\\n",
    "                         .withColumn('BestNights_thursday', regexp_replace('BestNights_thursday', 'Na', ''))\\\n",
    "                         .withColumn('BestNights_sunday', regexp_replace('BestNights_sunday', 'Na', ''))\\\n",
    "                         .withColumn('BestNights_saturday', regexp_replace('BestNights_saturday', 'Na', ''))\\\n",
    "                         .withColumn('GoodForMeal_dessert', regexp_replace('GoodForMeal_dessert', 'Na', ''))\\\n",
    "                         .withColumn('GoodForMeal_latenight', regexp_replace('GoodForMeal_latenight', 'Na', ''))\\\n",
    "                         .withColumn('GoodForMeal_lunch', regexp_replace('GoodForMeal_lunch', 'Na', ''))\\\n",
    "                         .withColumn('GoodForMeal_dinner', regexp_replace('GoodForMeal_dinner', 'Na', ''))\\\n",
    "                         .withColumn('GoodForMeal_breakfast', regexp_replace('GoodForMeal_breakfast', 'Na', ''))\\\n",
    "                         .withColumn('GoodForMeal_brunch', regexp_replace('GoodForMeal_brunch', 'Na', ''))\\\n",
    "                         .withColumn('Smoking', regexp_replace('Smoking', 'Na', ''))\\\n",
    "                         .withColumn('DriveThru', regexp_replace('DriveThru', 'Na', ''))\\\n",
    "                         .withColumn('DogsAllowed', regexp_replace('DogsAllowed', 'Na', ''))\\\n",
    "                         .withColumn('BusinessAcceptsBitcoin', regexp_replace('BusinessAcceptsBitcoin', 'Na', ''))\\\n",
    "                         .withColumn('Open24Hours', regexp_replace('Open24Hours', 'Na', ''))\\\n",
    "                         .withColumn('Corkage', regexp_replace('Corkage', 'Na', ''))\\\n",
    "                         .withColumn('AgesAllowed', regexp_replace('AgesAllowed', 'Na', ''))\n",
    "\n"
   ]
  },
  {
   "cell_type": "markdown",
   "id": "be830059",
   "metadata": {},
   "source": [
    "## saving file"
   ]
  },
  {
   "cell_type": "code",
   "execution_count": null,
   "id": "5056fabf",
   "metadata": {},
   "outputs": [],
   "source": []
  }
 ],
 "metadata": {
  "kernelspec": {
   "display_name": "Pyspark 3",
   "language": "python",
   "name": "pyspark3"
  },
  "language_info": {
   "codemirror_mode": {
    "name": "ipython",
    "version": 3
   },
   "file_extension": ".py",
   "mimetype": "text/x-python",
   "name": "python",
   "nbconvert_exporter": "python",
   "pygments_lexer": "ipython3",
   "version": "3.6.12"
  }
 },
 "nbformat": 4,
 "nbformat_minor": 5
}
